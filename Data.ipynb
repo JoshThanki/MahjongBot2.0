{
 "cells": [
  {
   "cell_type": "code",
   "execution_count": 1,
   "metadata": {},
   "outputs": [],
   "source": [
    "import numpy as np\n",
    "np.set_printoptions(threshold=np.inf, linewidth=np.inf)\n",
    "import scipy.sparse as sp\n",
    "from pathlib import Path\n",
    "from keras.models import Sequential\n",
    "from keras.layers import Dense\n",
    "from keras.optimizers import Adam\n",
    "from keras.metrics import categorical_crossentropy\n",
    "import os\n",
    "from tqdm import tqdm"
   ]
  },
  {
   "cell_type": "code",
   "execution_count": 31,
   "metadata": {},
   "outputs": [],
   "source": [
    "#function to convert y into one-hot format for model training\n",
    "\n",
    "def one_hot(array):\n",
    "    out = np.zeros((array.size, 34))\n",
    "    out[np.arange(array.size), array] = 1\n",
    "    return out"
   ]
  },
  {
   "cell_type": "markdown",
   "metadata": {},
   "source": [
    "BIG DATA"
   ]
  },
  {
   "cell_type": "code",
   "execution_count": 4,
   "metadata": {},
   "outputs": [],
   "source": [
    "#defining file paths (PC-wont work for u)\n",
    "\n",
    "discard_dataset_path = \"D://Mahjong group project data/archive/discard_datasets\"\n",
    "dataset_folder_train = Path(discard_dataset_path) / \"2015\" #path to file folder\n",
    "dataset_folder_test = Path(discard_dataset_path) / \"2014\" "
   ]
  },
  {
   "cell_type": "code",
   "execution_count": 29,
   "metadata": {},
   "outputs": [
    {
     "name": "stderr",
     "output_type": "stream",
     "text": [
      "100%|██████████| 999/999 [00:44<00:00, 22.61it/s] \n"
     ]
    }
   ],
   "source": [
    "#array of files\n",
    "files_train = list(dataset_folder_train.iterdir())[:1000]\n",
    "files_test = list(dataset_folder_test.iterdir())[:100]\n",
    "\n",
    "\n",
    "#initialising matrices\n",
    "matrix_train = sp.load_npz(files_train[0]).toarray()\n",
    "matrix_test = sp.load_npz(files_test[0]).toarray()\n",
    "\n",
    "#creating matrices\n",
    "for file_it in tqdm(files_train[1:]):\n",
    "    matrix_train = np.concatenate((matrix_train, sp.load_npz(file_it).toarray()), axis=0 ) \n",
    "\n",
    "for file_it in files_test[1:]:\n",
    "    matrix_test = np.concatenate((matrix_test, sp.load_npz(file_it).toarray()), axis=0 ) "
   ]
  },
  {
   "cell_type": "code",
   "execution_count": 36,
   "metadata": {},
   "outputs": [
    {
     "name": "stderr",
     "output_type": "stream",
     "text": [
      "100%|██████████| 900/900 [00:40<00:00, 22.39it/s]\n"
     ]
    }
   ],
   "source": [
    "testing_files = list(dataset_folder_test.iterdir())[100:1000]\n",
    "\n",
    "test = sp.load_npz(testing_files[0]).toarray()\n",
    "\n",
    "for file_it in tqdm(testing_files):\n",
    "    test = np.concatenate((test, sp.load_npz(file_it).toarray()), axis=0 ) \n"
   ]
  },
  {
   "cell_type": "code",
   "execution_count": 39,
   "metadata": {},
   "outputs": [],
   "source": [
    "test_X = test[:, :510]\n",
    "test_y = one_hot( test[:, -1] )"
   ]
  },
  {
   "cell_type": "code",
   "execution_count": 32,
   "metadata": {},
   "outputs": [],
   "source": [
    "X_train = matrix_train[:, :510]\n",
    "y_train = one_hot( matrix_train[:, -1] )\n",
    "\n",
    "X_test = matrix_test[:, :510]\n",
    "y_test = one_hot( matrix_test[:, -1] )"
   ]
  },
  {
   "cell_type": "code",
   "execution_count": 42,
   "metadata": {},
   "outputs": [
    {
     "ename": "NameError",
     "evalue": "name 'linear' is not defined",
     "output_type": "error",
     "traceback": [
      "\u001b[1;31m---------------------------------------------------------------------------\u001b[0m",
      "\u001b[1;31mNameError\u001b[0m                                 Traceback (most recent call last)",
      "Cell \u001b[1;32mIn[42], line 2\u001b[0m\n\u001b[0;32m      1\u001b[0m model \u001b[38;5;241m=\u001b[39m Sequential([\n\u001b[1;32m----> 2\u001b[0m     \u001b[43mlinear\u001b[49m(\u001b[38;5;241m4096\u001b[39m, input_shape \u001b[38;5;241m=\u001b[39m (\u001b[38;5;241m510\u001b[39m, ), activation\u001b[38;5;241m=\u001b[39m\u001b[38;5;124m\"\u001b[39m\u001b[38;5;124mrelu\u001b[39m\u001b[38;5;124m\"\u001b[39m),\n\u001b[0;32m      3\u001b[0m     Dense(\u001b[38;5;241m2048\u001b[39m, activation\u001b[38;5;241m=\u001b[39m\u001b[38;5;124m\"\u001b[39m\u001b[38;5;124mrelu\u001b[39m\u001b[38;5;124m\"\u001b[39m),\n\u001b[0;32m      4\u001b[0m     Dense(\u001b[38;5;241m1024\u001b[39m, activation\u001b[38;5;241m=\u001b[39m\u001b[38;5;124m\"\u001b[39m\u001b[38;5;124mrelu\u001b[39m\u001b[38;5;124m\"\u001b[39m),\n\u001b[0;32m      5\u001b[0m     Dense(\u001b[38;5;241m512\u001b[39m, activation\u001b[38;5;241m=\u001b[39m\u001b[38;5;124m\"\u001b[39m\u001b[38;5;124mrelu\u001b[39m\u001b[38;5;124m\"\u001b[39m),\n\u001b[0;32m      6\u001b[0m     Dense(\u001b[38;5;241m256\u001b[39m, activation\u001b[38;5;241m=\u001b[39m\u001b[38;5;124m\"\u001b[39m\u001b[38;5;124mrelu\u001b[39m\u001b[38;5;124m\"\u001b[39m),\n\u001b[0;32m      7\u001b[0m     Dense(\u001b[38;5;241m128\u001b[39m, activation\u001b[38;5;241m=\u001b[39m\u001b[38;5;124m\"\u001b[39m\u001b[38;5;124mrelu\u001b[39m\u001b[38;5;124m\"\u001b[39m),\n\u001b[0;32m      8\u001b[0m     Dense(\u001b[38;5;241m34\u001b[39m, activation\u001b[38;5;241m=\u001b[39m\u001b[38;5;124m\"\u001b[39m\u001b[38;5;124mrelu\u001b[39m\u001b[38;5;124m\"\u001b[39m),\n\u001b[0;32m      9\u001b[0m     Dense(\u001b[38;5;241m34\u001b[39m, activation\u001b[38;5;241m=\u001b[39m\u001b[38;5;124m\"\u001b[39m\u001b[38;5;124msoftmax\u001b[39m\u001b[38;5;124m\"\u001b[39m),\n\u001b[0;32m     10\u001b[0m ])\n",
      "\u001b[1;31mNameError\u001b[0m: name 'linear' is not defined"
     ]
    }
   ],
   "source": [
    "model = Sequential([\n",
    "    Dense(2048, input_shape = (510, ), activation=\"relu\"),\n",
    "    #Dense(2048, activation=\"relu\"),\n",
    "    Dense(1024, activation=\"relu\"),\n",
    "    Dense(512, activation=\"relu\"),\n",
    "    Dense(256, activation=\"relu\"),\n",
    "    Dense(128, activation=\"relu\"),\n",
    "    Dense(34, activation=\"relu\"),\n",
    "    Dense(34, activation=\"softmax\"),\n",
    "])"
   ]
  },
  {
   "cell_type": "code",
   "execution_count": 34,
   "metadata": {},
   "outputs": [],
   "source": [
    "from keras.optimizers import SGD \n",
    "\n",
    "model.compile(optimizer = SGD (learning_rate=0.001),\n",
    "              loss='categorical_crossentropy', \n",
    "              metrics=['accuracy'])"
   ]
  },
  {
   "cell_type": "code",
   "execution_count": 35,
   "metadata": {},
   "outputs": [
    {
     "name": "stdout",
     "output_type": "stream",
     "text": [
      "Epoch 1/20\n",
      "\u001b[1m7495/7495\u001b[0m \u001b[32m━━━━━━━━━━━━━━━━━━━━\u001b[0m\u001b[37m\u001b[0m \u001b[1m240s\u001b[0m 32ms/step - accuracy: 0.0489 - loss: 3.5235 - val_accuracy: 0.0514 - val_loss: 3.4942\n",
      "Epoch 2/20\n",
      "\u001b[1m7495/7495\u001b[0m \u001b[32m━━━━━━━━━━━━━━━━━━━━\u001b[0m\u001b[37m\u001b[0m \u001b[1m231s\u001b[0m 31ms/step - accuracy: 0.0492 - loss: 3.4888 - val_accuracy: 0.0514 - val_loss: 3.4735\n",
      "Epoch 3/20\n",
      "\u001b[1m7495/7495\u001b[0m \u001b[32m━━━━━━━━━━━━━━━━━━━━\u001b[0m\u001b[37m\u001b[0m \u001b[1m229s\u001b[0m 31ms/step - accuracy: 0.0495 - loss: 3.4703 - val_accuracy: 0.0514 - val_loss: 3.4604\n",
      "Epoch 4/20\n",
      "\u001b[1m7495/7495\u001b[0m \u001b[32m━━━━━━━━━━━━━━━━━━━━\u001b[0m\u001b[37m\u001b[0m \u001b[1m228s\u001b[0m 30ms/step - accuracy: 0.0495 - loss: 3.4591 - val_accuracy: 0.0514 - val_loss: 3.4519\n",
      "Epoch 5/20\n",
      "\u001b[1m7495/7495\u001b[0m \u001b[32m━━━━━━━━━━━━━━━━━━━━\u001b[0m\u001b[37m\u001b[0m \u001b[1m230s\u001b[0m 31ms/step - accuracy: 0.0496 - loss: 3.4517 - val_accuracy: 0.0514 - val_loss: 3.4464\n",
      "Epoch 6/20\n",
      "\u001b[1m7495/7495\u001b[0m \u001b[32m━━━━━━━━━━━━━━━━━━━━\u001b[0m\u001b[37m\u001b[0m \u001b[1m230s\u001b[0m 31ms/step - accuracy: 0.0493 - loss: 3.4460 - val_accuracy: 0.0514 - val_loss: 3.4429\n",
      "Epoch 7/20\n",
      "\u001b[1m7495/7495\u001b[0m \u001b[32m━━━━━━━━━━━━━━━━━━━━\u001b[0m\u001b[37m\u001b[0m \u001b[1m230s\u001b[0m 31ms/step - accuracy: 0.0499 - loss: 3.4436 - val_accuracy: 0.0514 - val_loss: 3.4406\n",
      "Epoch 8/20\n",
      "\u001b[1m7495/7495\u001b[0m \u001b[32m━━━━━━━━━━━━━━━━━━━━\u001b[0m\u001b[37m\u001b[0m \u001b[1m232s\u001b[0m 31ms/step - accuracy: 0.0497 - loss: 3.4418 - val_accuracy: 0.0514 - val_loss: 3.4390\n",
      "Epoch 9/20\n",
      "\u001b[1m7495/7495\u001b[0m \u001b[32m━━━━━━━━━━━━━━━━━━━━\u001b[0m\u001b[37m\u001b[0m \u001b[1m231s\u001b[0m 31ms/step - accuracy: 0.0506 - loss: 3.4395 - val_accuracy: 0.0514 - val_loss: 3.4380\n",
      "Epoch 10/20\n",
      "\u001b[1m7495/7495\u001b[0m \u001b[32m━━━━━━━━━━━━━━━━━━━━\u001b[0m\u001b[37m\u001b[0m \u001b[1m239s\u001b[0m 32ms/step - accuracy: 0.0493 - loss: 3.4392 - val_accuracy: 0.0514 - val_loss: 3.4373\n",
      "Epoch 11/20\n",
      "\u001b[1m7495/7495\u001b[0m \u001b[32m━━━━━━━━━━━━━━━━━━━━\u001b[0m\u001b[37m\u001b[0m \u001b[1m235s\u001b[0m 31ms/step - accuracy: 0.0496 - loss: 3.4385 - val_accuracy: 0.0514 - val_loss: 3.4368\n",
      "Epoch 12/20\n",
      "\u001b[1m7495/7495\u001b[0m \u001b[32m━━━━━━━━━━━━━━━━━━━━\u001b[0m\u001b[37m\u001b[0m \u001b[1m233s\u001b[0m 31ms/step - accuracy: 0.0493 - loss: 3.4393 - val_accuracy: 0.0514 - val_loss: 3.4365\n",
      "Epoch 13/20\n",
      "\u001b[1m7495/7495\u001b[0m \u001b[32m━━━━━━━━━━━━━━━━━━━━\u001b[0m\u001b[37m\u001b[0m \u001b[1m233s\u001b[0m 31ms/step - accuracy: 0.0499 - loss: 3.4374 - val_accuracy: 0.0514 - val_loss: 3.4362\n",
      "Epoch 14/20\n",
      "\u001b[1m7495/7495\u001b[0m \u001b[32m━━━━━━━━━━━━━━━━━━━━\u001b[0m\u001b[37m\u001b[0m \u001b[1m234s\u001b[0m 31ms/step - accuracy: 0.0493 - loss: 3.4388 - val_accuracy: 0.0514 - val_loss: 3.4361\n",
      "Epoch 15/20\n",
      "\u001b[1m7495/7495\u001b[0m \u001b[32m━━━━━━━━━━━━━━━━━━━━\u001b[0m\u001b[37m\u001b[0m \u001b[1m243s\u001b[0m 32ms/step - accuracy: 0.0496 - loss: 3.4375 - val_accuracy: 0.0514 - val_loss: 3.4360\n",
      "Epoch 16/20\n",
      "\u001b[1m7495/7495\u001b[0m \u001b[32m━━━━━━━━━━━━━━━━━━━━\u001b[0m\u001b[37m\u001b[0m \u001b[1m235s\u001b[0m 31ms/step - accuracy: 0.0491 - loss: 3.4370 - val_accuracy: 0.0514 - val_loss: 3.4359\n",
      "Epoch 17/20\n",
      "\u001b[1m7495/7495\u001b[0m \u001b[32m━━━━━━━━━━━━━━━━━━━━\u001b[0m\u001b[37m\u001b[0m \u001b[1m233s\u001b[0m 31ms/step - accuracy: 0.0485 - loss: 3.4373 - val_accuracy: 0.0514 - val_loss: 3.4358\n",
      "Epoch 18/20\n",
      "\u001b[1m7495/7495\u001b[0m \u001b[32m━━━━━━━━━━━━━━━━━━━━\u001b[0m\u001b[37m\u001b[0m \u001b[1m232s\u001b[0m 31ms/step - accuracy: 0.0499 - loss: 3.4382 - val_accuracy: 0.0514 - val_loss: 3.4358\n",
      "Epoch 19/20\n",
      "\u001b[1m7495/7495\u001b[0m \u001b[32m━━━━━━━━━━━━━━━━━━━━\u001b[0m\u001b[37m\u001b[0m \u001b[1m232s\u001b[0m 31ms/step - accuracy: 0.0493 - loss: 3.4375 - val_accuracy: 0.0514 - val_loss: 3.4358\n",
      "Epoch 20/20\n",
      "\u001b[1m7495/7495\u001b[0m \u001b[32m━━━━━━━━━━━━━━━━━━━━\u001b[0m\u001b[37m\u001b[0m \u001b[1m232s\u001b[0m 31ms/step - accuracy: 0.0494 - loss: 3.4374 - val_accuracy: 0.0514 - val_loss: 3.4358\n"
     ]
    }
   ],
   "source": [
    "history = model.fit(X_train, y_train, epochs=20, batch_size=32, validation_data=(X_test, y_test))"
   ]
  },
  {
   "cell_type": "code",
   "execution_count": 40,
   "metadata": {},
   "outputs": [
    {
     "name": "stdout",
     "output_type": "stream",
     "text": [
      "\u001b[1m13727/13727\u001b[0m \u001b[32m━━━━━━━━━━━━━━━━━━━━\u001b[0m\u001b[37m\u001b[0m \u001b[1m69s\u001b[0m 5ms/step - accuracy: 0.0495 - loss: 3.4368\n",
      "Test Loss: 3.4363956451416016\n",
      "Test Accuracy: 0.049554359167814255\n"
     ]
    }
   ],
   "source": [
    "test_loss, test_accuracy = model.evaluate(test_X, test_y)\n",
    "print(f\"Test Loss: {test_loss}\")\n",
    "print(f\"Test Accuracy: {test_accuracy}\")"
   ]
  },
  {
   "cell_type": "code",
   "execution_count": null,
   "metadata": {},
   "outputs": [],
   "source": [
    "model = Sequential([\n",
    "    Dense(4096, input_shape = (510, ), activation=\"relu\"),\n",
    "    Dense(2048, activation=\"relu\"),\n",
    "    Dense(1024, activation=\"relu\"),\n",
    "    Dense(512, activation=\"relu\"),\n",
    "    Dense(256, activation=\"relu\"),\n",
    "    Dense(128, activation=\"relu\"),\n",
    "    Dense(34, activation=\"relu\"),\n",
    "    Dense(34, activation=\"softmax\"),\n",
    "])"
   ]
  }
 ],
 "metadata": {
  "kernelspec": {
   "display_name": "Python 3",
   "language": "python",
   "name": "python3"
  },
  "language_info": {
   "codemirror_mode": {
    "name": "ipython",
    "version": 3
   },
   "file_extension": ".py",
   "mimetype": "text/x-python",
   "name": "python",
   "nbconvert_exporter": "python",
   "pygments_lexer": "ipython3",
   "version": "3.12.4"
  }
 },
 "nbformat": 4,
 "nbformat_minor": 2
}
