{
 "cells": [
  {
   "cell_type": "code",
   "execution_count": 6,
   "metadata": {},
   "outputs": [],
   "source": [
    "import numpy as np\n",
    "np.set_printoptions(threshold=np.inf, linewidth=np.inf)\n",
    "\n",
    "import scipy.sparse as sp\n",
    "import pandas as pd\n",
    "from tqdm import tqdm\n",
    "from pathlib import Path"
   ]
  },
  {
   "cell_type": "code",
   "execution_count": 10,
   "metadata": {},
   "outputs": [
    {
     "name": "stdout",
     "output_type": "stream",
     "text": [
      "data\\discardDataSets\\2019\n"
     ]
    }
   ],
   "source": [
    "discard_dataset_path = \"data\\discardDataSets\"\n",
    "dataset_folder = Path(discard_dataset_path) / \"2019\" #path to file folder\n",
    "print(dataset_folder)"
   ]
  },
  {
   "cell_type": "code",
   "execution_count": 13,
   "metadata": {},
   "outputs": [
    {
     "name": "stdout",
     "output_type": "stream",
     "text": [
      "data\\discardDataSets\\2019\\2019010100gm-00a9-0000-009379d9.npz\n",
      "  (np.int32(0), np.int32(5))\t69\n",
      "  (np.int32(0), np.int32(6))\t25\n",
      "  (np.int32(0), np.int32(7))\t25\n",
      "  (np.int32(0), np.int32(8))\t25\n",
      "  (np.int32(0), np.int32(9))\t25\n",
      "  (np.int32(0), np.int32(14))\t-128\n",
      "  (np.int32(0), np.int32(15))\t-128\n",
      "  (np.int32(0), np.int32(16))\t-128\n",
      "  (np.int32(0), np.int32(17))\t-128\n",
      "  (np.int32(0), np.int32(18))\t-128\n",
      "  (np.int32(0), np.int32(19))\t-128\n",
      "  (np.int32(0), np.int32(20))\t-128\n",
      "  (np.int32(0), np.int32(21))\t-128\n",
      "  (np.int32(0), np.int32(22))\t-128\n",
      "  (np.int32(0), np.int32(23))\t-128\n",
      "  (np.int32(0), np.int32(24))\t-128\n",
      "  (np.int32(0), np.int32(25))\t-128\n",
      "  (np.int32(0), np.int32(26))\t-128\n",
      "  (np.int32(0), np.int32(27))\t-128\n",
      "  (np.int32(0), np.int32(28))\t-128\n",
      "  (np.int32(0), np.int32(29))\t-128\n",
      "  (np.int32(0), np.int32(30))\t-128\n",
      "  (np.int32(0), np.int32(31))\t-128\n",
      "  (np.int32(0), np.int32(33))\t-126\n",
      "  (np.int32(0), np.int32(38))\t1\n",
      "  :\t:\n",
      "  (np.int32(263), np.int32(436))\t1\n",
      "  (np.int32(263), np.int32(438))\t1\n",
      "  (np.int32(263), np.int32(440))\t1\n",
      "  (np.int32(263), np.int32(441))\t1\n",
      "  (np.int32(263), np.int32(442))\t1\n",
      "  (np.int32(263), np.int32(445))\t1\n",
      "  (np.int32(263), np.int32(450))\t1\n",
      "  (np.int32(263), np.int32(459))\t1\n",
      "  (np.int32(263), np.int32(461))\t1\n",
      "  (np.int32(263), np.int32(462))\t1\n",
      "  (np.int32(263), np.int32(465))\t1\n",
      "  (np.int32(263), np.int32(467))\t1\n",
      "  (np.int32(263), np.int32(472))\t1\n",
      "  (np.int32(263), np.int32(474))\t1\n",
      "  (np.int32(263), np.int32(476))\t1\n",
      "  (np.int32(263), np.int32(483))\t1\n",
      "  (np.int32(263), np.int32(485))\t1\n",
      "  (np.int32(263), np.int32(487))\t2\n",
      "  (np.int32(263), np.int32(493))\t1\n",
      "  (np.int32(263), np.int32(494))\t1\n",
      "  (np.int32(263), np.int32(502))\t1\n",
      "  (np.int32(263), np.int32(503))\t1\n",
      "  (np.int32(263), np.int32(504))\t1\n",
      "  (np.int32(263), np.int32(507))\t1\n",
      "  (np.int32(263), np.int32(510))\t9\n"
     ]
    },
    {
     "ename": "TypeError",
     "evalue": "iteration over a 0-d array",
     "output_type": "error",
     "traceback": [
      "\u001b[1;31m---------------------------------------------------------------------------\u001b[0m",
      "\u001b[1;31mTypeError\u001b[0m                                 Traceback (most recent call last)",
      "Cell \u001b[1;32mIn[13], line 8\u001b[0m\n\u001b[0;32m      4\u001b[0m game \u001b[38;5;241m=\u001b[39m sp\u001b[38;5;241m.\u001b[39mload_npz(file)     \u001b[38;5;66;03m#loading file\u001b[39;00m\n\u001b[0;32m      6\u001b[0m \u001b[38;5;28mprint\u001b[39m(game)\n\u001b[1;32m----> 8\u001b[0m matrix \u001b[38;5;241m=\u001b[39m \u001b[43msp\u001b[49m\u001b[38;5;241;43m.\u001b[39;49m\u001b[43mvstack\u001b[49m\u001b[43m(\u001b[49m\u001b[43mgame\u001b[49m\u001b[43m)\u001b[49m \u001b[38;5;66;03m# Stacking them to get Nx511\u001b[39;00m\n",
      "File \u001b[1;32mc:\\Users\\josht\\OneDrive\\Documents\\GitHub\\MahjongBot2.0\\.venv\\Lib\\site-packages\\scipy\\sparse\\_construct.py:781\u001b[0m, in \u001b[0;36mvstack\u001b[1;34m(blocks, format, dtype)\u001b[0m\n\u001b[0;32m    779\u001b[0m     \u001b[38;5;28;01mreturn\u001b[39;00m _block([[b] \u001b[38;5;28;01mfor\u001b[39;00m b \u001b[38;5;129;01min\u001b[39;00m blocks], \u001b[38;5;28mformat\u001b[39m, dtype)\n\u001b[0;32m    780\u001b[0m \u001b[38;5;28;01melse\u001b[39;00m:\n\u001b[1;32m--> 781\u001b[0m     \u001b[38;5;28;01mreturn\u001b[39;00m _block(\u001b[43m[\u001b[49m\u001b[43m[\u001b[49m\u001b[43mb\u001b[49m\u001b[43m]\u001b[49m\u001b[43m \u001b[49m\u001b[38;5;28;43;01mfor\u001b[39;49;00m\u001b[43m \u001b[49m\u001b[43mb\u001b[49m\u001b[43m \u001b[49m\u001b[38;5;129;43;01min\u001b[39;49;00m\u001b[43m \u001b[49m\u001b[43mblocks\u001b[49m\u001b[43m]\u001b[49m, \u001b[38;5;28mformat\u001b[39m, dtype, return_spmatrix\u001b[38;5;241m=\u001b[39m\u001b[38;5;28;01mTrue\u001b[39;00m)\n",
      "\u001b[1;31mTypeError\u001b[0m: iteration over a 0-d array"
     ]
    }
   ],
   "source": [
    "file = list(dataset_folder.iterdir())[0]       #path to single file\n",
    "print(file)\n",
    "\n",
    "game = sp.load_npz(file)     #loading file\n",
    "\n",
    "print(game)\n",
    "\n",
    "matrix = sp.vstack(game) # Stacking them to get Nx511"
   ]
  },
  {
   "cell_type": "code",
   "execution_count": null,
   "metadata": {},
   "outputs": [],
   "source": [
    "array = game.toarray()  # Converting from scipy sparse matrix to numpy array\n",
    "\n",
    "array.shape "
   ]
  },
  {
   "cell_type": "code",
   "execution_count": null,
   "metadata": {},
   "outputs": [],
   "source": [
    "X = array[:, :510]           # Board State\n",
    "y = array[:, -1:].flatten()  # Discarded Tile\n",
    "\n",
    "X.shape"
   ]
  }
 ],
 "metadata": {
  "kernelspec": {
   "display_name": "Python 3",
   "language": "python",
   "name": "python3"
  },
  "language_info": {
   "codemirror_mode": {
    "name": "ipython",
    "version": 3
   },
   "file_extension": ".py",
   "mimetype": "text/x-python",
   "name": "python",
   "nbconvert_exporter": "python",
   "pygments_lexer": "ipython3",
   "version": "3.11.0"
  }
 },
 "nbformat": 4,
 "nbformat_minor": 2
}
