{
 "cells": [
  {
   "cell_type": "code",
   "execution_count": null,
   "metadata": {},
   "outputs": [],
   "source": [
    "import numpy as np\n",
    "np.set_printoptions(threshold=np.inf, linewidth=np.inf)\n",
    "\n",
    "import scipy.sparse as sp\n",
    "import pandas as pd\n",
    "from tqdm import tqdm\n",
    "from pathlib import Path"
   ]
  },
  {
   "cell_type": "code",
   "execution_count": null,
   "metadata": {},
   "outputs": [],
   "source": [
    "discard_dataset_path = \"D://Mahjong group project data/archive/discard_datasets\"\n",
    "dataset_folder = Path(discard_dataset_path) / \"2019\"      #path to file folder"
   ]
  },
  {
   "cell_type": "code",
   "execution_count": null,
   "metadata": {},
   "outputs": [],
   "source": [
    "file = list(dataset_folder.iterdir())[0]       #path to single file\n",
    "\n",
    "game = sp.load_npz(file)     #loading file\n",
    "\n",
    "matrix = sp.vstack(game) # Stacking them to get Nx511"
   ]
  },
  {
   "cell_type": "code",
   "execution_count": null,
   "metadata": {},
   "outputs": [],
   "source": [
    "array = game.toarray()  # Converting from scipy sparse matrix to numpy array\n",
    "\n",
    "array.shape "
   ]
  },
  {
   "cell_type": "code",
   "execution_count": null,
   "metadata": {},
   "outputs": [],
   "source": [
    "X = array[:, :510]           # Board State\n",
    "y = array[:, -1:].flatten()  # Discarded Tile\n",
    "\n",
    "X.shape"
   ]
  }
 ],
 "metadata": {
  "language_info": {
   "name": "python"
  }
 },
 "nbformat": 4,
 "nbformat_minor": 2
}
